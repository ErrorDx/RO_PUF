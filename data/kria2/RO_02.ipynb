{
 "cells": [
  {
   "cell_type": "code",
   "execution_count": 1,
   "id": "a83cf902",
   "metadata": {},
   "outputs": [
    {
     "name": "stderr",
     "output_type": "stream",
     "text": [
      "Matplotlib is building the font cache; this may take a moment.\n"
     ]
    },
    {
     "data": {
      "application/javascript": [
       "\n",
       "try {\n",
       "require(['notebook/js/codecell'], function(codecell) {\n",
       "  codecell.CodeCell.options_default.highlight_modes[\n",
       "      'magic_text/x-csrc'] = {'reg':[/^%%microblaze/]};\n",
       "  Jupyter.notebook.events.one('kernel_ready.Kernel', function(){\n",
       "      Jupyter.notebook.get_cells().map(function(cell){\n",
       "          if (cell.cell_type == 'code'){ cell.auto_highlight(); } }) ;\n",
       "  });\n",
       "});\n",
       "} catch (e) {};\n"
      ]
     },
     "metadata": {},
     "output_type": "display_data"
    },
    {
     "data": {
      "application/javascript": [
       "\n",
       "try {\n",
       "require(['notebook/js/codecell'], function(codecell) {\n",
       "  codecell.CodeCell.options_default.highlight_modes[\n",
       "      'magic_text/x-csrc'] = {'reg':[/^%%pybind11/]};\n",
       "  Jupyter.notebook.events.one('kernel_ready.Kernel', function(){\n",
       "      Jupyter.notebook.get_cells().map(function(cell){\n",
       "          if (cell.cell_type == 'code'){ cell.auto_highlight(); } }) ;\n",
       "  });\n",
       "});\n",
       "} catch (e) {};\n"
      ]
     },
     "metadata": {},
     "output_type": "display_data"
    }
   ],
   "source": [
    "# 8 PUFs, 256 ROs, 5 inv, wait_ns 10000, \n",
    "from pynq import Overlay, allocate\n",
    "import matplotlib.pyplot as plt\n",
    "import pynq_composable\n",
    "import numpy as np\n",
    "import math\n",
    "import time\n",
    "from scipy.spatial.distance import hamming\n",
    "from scipy.stats import norm \n",
    "import statistics\n",
    "from tqdm.notebook import tqdm \n",
    "\n",
    "ol = Overlay(\"ro_02/ro_02.bit\") \n",
    "\n",
    "PUF = ol.ROs\n",
    "#PUF.c_dict\n",
    "\n",
    "n_PUF = 15\n",
    "n_ROs = 256\n",
    "wait_ns = 10000\n",
    "clk_period_ns = 10\n",
    "\n",
    "PUF_names = [\"\" for x in range(n_PUF)]\n",
    "PUF_init = [0 for x in range(n_PUF)]\n",
    "for i in range(n_PUF):\n",
    "    PUF_names[i] = \"ROPUF_\"+ str(i)  \n",
    "\n",
    "current_PUF = -1   \n",
    "    \n",
    "def switch_PUF(i):\n",
    "    global current_PUF\n",
    "    global PUF_init\n",
    "    \n",
    "    if current_PUF == i:\n",
    "        return\n",
    "    \n",
    "    PUF.compose([PUF.ps_in, getattr(PUF,PUF_names[i]), PUF.ps_out])\n",
    "    current_PUF = i\n",
    "    \n",
    "    if PUF_init[i] == 1:\n",
    "        return\n",
    "    \n",
    "    PUF_init[i] = 1\n",
    "    #Flush initial queue\n",
    "    dma_recv.transfer(output_buffer)\n",
    "    dma_recv.wait()      "
   ]
  },
  {
   "cell_type": "code",
   "execution_count": 2,
   "id": "0eb8f372",
   "metadata": {},
   "outputs": [
    {
     "data": {
      "application/json": {
       "ROPUF_0 [loaded]": {
        "dfx": false,
        "loaded": true,
        "mi": [
         4
        ],
        "modtype": "ROPUF",
        "si": [
         4
        ]
       },
       "ROPUF_1 [loaded]": {
        "dfx": false,
        "loaded": true,
        "mi": [
         5
        ],
        "modtype": "ROPUF",
        "si": [
         5
        ]
       },
       "ROPUF_10 [loaded]": {
        "dfx": false,
        "loaded": true,
        "mi": [
         10
        ],
        "modtype": "ROPUF",
        "si": [
         10
        ]
       },
       "ROPUF_11 [loaded]": {
        "dfx": false,
        "loaded": true,
        "mi": [
         11
        ],
        "modtype": "ROPUF",
        "si": [
         11
        ]
       },
       "ROPUF_12 [loaded]": {
        "dfx": false,
        "loaded": true,
        "mi": [
         12
        ],
        "modtype": "ROPUF",
        "si": [
         12
        ]
       },
       "ROPUF_13 [loaded]": {
        "dfx": false,
        "loaded": true,
        "mi": [
         13
        ],
        "modtype": "ROPUF",
        "si": [
         13
        ]
       },
       "ROPUF_14 [loaded]": {
        "dfx": false,
        "loaded": true,
        "mi": [
         14
        ],
        "modtype": "ROPUF",
        "si": [
         14
        ]
       },
       "ROPUF_2 [loaded]": {
        "dfx": false,
        "loaded": true,
        "mi": [
         3
        ],
        "modtype": "ROPUF",
        "si": [
         2
        ]
       },
       "ROPUF_3 [loaded]": {
        "dfx": false,
        "loaded": true,
        "mi": [
         2
        ],
        "modtype": "ROPUF",
        "si": [
         1
        ]
       },
       "ROPUF_4 [loaded]": {
        "dfx": false,
        "loaded": true,
        "mi": [
         0
        ],
        "modtype": "ROPUF",
        "si": [
         0
        ]
       },
       "ROPUF_5 [loaded]": {
        "dfx": false,
        "loaded": true,
        "mi": [
         7
        ],
        "modtype": "ROPUF",
        "si": [
         6
        ]
       },
       "ROPUF_6 [loaded]": {
        "dfx": false,
        "loaded": true,
        "mi": [
         6
        ],
        "modtype": "ROPUF",
        "si": [
         7
        ]
       },
       "ROPUF_7 [loaded]": {
        "dfx": false,
        "loaded": true,
        "mi": [
         8
        ],
        "modtype": "ROPUF",
        "si": [
         8
        ]
       },
       "ROPUF_8 [loaded]": {
        "dfx": false,
        "loaded": true,
        "mi": [
         15
        ],
        "modtype": "ROPUF",
        "si": [
         15
        ]
       },
       "ROPUF_9 [loaded]": {
        "dfx": false,
        "loaded": true,
        "mi": [
         9
        ],
        "modtype": "ROPUF",
        "si": [
         9
        ]
       },
       "ps_in [loaded][default]": {
        "default": true,
        "dfx": false,
        "fullpath": "axi_dma_0",
        "loaded": true,
        "modtype": "axi_dma",
        "si": [
         3
        ]
       },
       "ps_out [loaded][default]": {
        "default": true,
        "dfx": false,
        "fullpath": "axi_dma_0",
        "loaded": true,
        "mi": [
         1
        ],
        "modtype": "axi_dma"
       }
      },
      "text/plain": [
       "{'ROPUF_4': {'si': [0],\n",
       "  'dfx': False,\n",
       "  'loaded': True,\n",
       "  'modtype': 'ROPUF',\n",
       "  'mi': [0]},\n",
       " 'ROPUF_3': {'si': [1],\n",
       "  'dfx': False,\n",
       "  'loaded': True,\n",
       "  'modtype': 'ROPUF',\n",
       "  'mi': [2]},\n",
       " 'ROPUF_2': {'si': [2],\n",
       "  'dfx': False,\n",
       "  'loaded': True,\n",
       "  'modtype': 'ROPUF',\n",
       "  'mi': [3]},\n",
       " 'ROPUF_0': {'si': [4],\n",
       "  'dfx': False,\n",
       "  'loaded': True,\n",
       "  'modtype': 'ROPUF',\n",
       "  'mi': [4]},\n",
       " 'ROPUF_1': {'si': [5],\n",
       "  'dfx': False,\n",
       "  'loaded': True,\n",
       "  'modtype': 'ROPUF',\n",
       "  'mi': [5]},\n",
       " 'ROPUF_5': {'si': [6],\n",
       "  'dfx': False,\n",
       "  'loaded': True,\n",
       "  'modtype': 'ROPUF',\n",
       "  'mi': [7]},\n",
       " 'ROPUF_6': {'mi': [6],\n",
       "  'dfx': False,\n",
       "  'loaded': True,\n",
       "  'modtype': 'ROPUF',\n",
       "  'si': [7]},\n",
       " 'ROPUF_7': {'si': [8],\n",
       "  'dfx': False,\n",
       "  'loaded': True,\n",
       "  'modtype': 'ROPUF',\n",
       "  'mi': [8]},\n",
       " 'ROPUF_9': {'si': [9],\n",
       "  'dfx': False,\n",
       "  'loaded': True,\n",
       "  'modtype': 'ROPUF',\n",
       "  'mi': [9]},\n",
       " 'ROPUF_10': {'si': [10],\n",
       "  'dfx': False,\n",
       "  'loaded': True,\n",
       "  'modtype': 'ROPUF',\n",
       "  'mi': [10]},\n",
       " 'ROPUF_11': {'si': [11],\n",
       "  'dfx': False,\n",
       "  'loaded': True,\n",
       "  'modtype': 'ROPUF',\n",
       "  'mi': [11]},\n",
       " 'ROPUF_12': {'si': [12],\n",
       "  'dfx': False,\n",
       "  'loaded': True,\n",
       "  'modtype': 'ROPUF',\n",
       "  'mi': [12]},\n",
       " 'ROPUF_13': {'si': [13],\n",
       "  'dfx': False,\n",
       "  'loaded': True,\n",
       "  'modtype': 'ROPUF',\n",
       "  'mi': [13]},\n",
       " 'ROPUF_14': {'si': [14],\n",
       "  'dfx': False,\n",
       "  'loaded': True,\n",
       "  'modtype': 'ROPUF',\n",
       "  'mi': [14]},\n",
       " 'ROPUF_8': {'si': [15],\n",
       "  'dfx': False,\n",
       "  'loaded': True,\n",
       "  'modtype': 'ROPUF',\n",
       "  'mi': [15]},\n",
       " 'ps_in': {'dfx': False,\n",
       "  'loaded': True,\n",
       "  'modtype': 'axi_dma',\n",
       "  'si': [3],\n",
       "  'default': True,\n",
       "  'fullpath': 'axi_dma_0'},\n",
       " 'ps_out': {'mi': [1],\n",
       "  'dfx': False,\n",
       "  'loaded': True,\n",
       "  'modtype': 'axi_dma',\n",
       "  'default': True,\n",
       "  'fullpath': 'axi_dma_0'}}"
      ]
     },
     "execution_count": 2,
     "metadata": {
      "application/json": {
       "expanded": false,
       "root": "ROs"
      }
     },
     "output_type": "execute_result"
    }
   ],
   "source": [
    "PUF.c_dict"
   ]
  },
  {
   "cell_type": "code",
   "execution_count": 3,
   "id": "cb9f62ab",
   "metadata": {
    "scrolled": true
   },
   "outputs": [],
   "source": [
    "buffer_size = 2\n",
    "input_buffer = allocate(shape=(1,), dtype=np.int32)\n",
    "output_buffer = allocate(shape=(buffer_size,), dtype=np.int32)\n",
    "\n",
    "dma_send = ol.axi_dma_0.sendchannel\n",
    "dma_recv = ol.axi_dma_0.recvchannel"
   ]
  },
  {
   "cell_type": "code",
   "execution_count": 19,
   "id": "3ead4be5",
   "metadata": {},
   "outputs": [
    {
     "data": {
      "image/svg+xml": [
       "<?xml version=\"1.0\" encoding=\"UTF-8\" standalone=\"no\"?>\n",
       "<!DOCTYPE svg PUBLIC \"-//W3C//DTD SVG 1.1//EN\"\n",
       " \"http://www.w3.org/Graphics/SVG/1.1/DTD/svg11.dtd\">\n",
       "<!-- Generated by graphviz version 2.43.0 (0)\n",
       " -->\n",
       "<!-- Title: %3 Pages: 1 -->\n",
       "<svg width=\"436pt\" height=\"44pt\"\n",
       " viewBox=\"0.00 0.00 436.00 44.00\" xmlns=\"http://www.w3.org/2000/svg\" xmlns:xlink=\"http://www.w3.org/1999/xlink\">\n",
       "<g id=\"graph0\" class=\"graph\" transform=\"scale(1 1) rotate(0) translate(4 40)\">\n",
       "<title>%3</title>\n",
       "<polygon fill=\"white\" stroke=\"transparent\" points=\"-4,4 -4,-40 432,-40 432,4 -4,4\"/>\n",
       "<!-- ps_in -->\n",
       "<g id=\"node1\" class=\"node\">\n",
       "<title>ps_in</title>\n",
       "<polygon fill=\"none\" stroke=\"black\" points=\"54,-36 0,-36 0,0 54,0 54,-36\"/>\n",
       "<text text-anchor=\"middle\" x=\"27\" y=\"-14.3\" font-family=\"Times,serif\" font-size=\"14.00\">ps_in</text>\n",
       "</g>\n",
       "<!-- ROPUF_0 -->\n",
       "<g id=\"node2\" class=\"node\">\n",
       "<title>ROPUF_0</title>\n",
       "<polygon fill=\"none\" stroke=\"black\" points=\"252,-36 167,-36 167,0 252,0 252,-36\"/>\n",
       "<text text-anchor=\"middle\" x=\"209.5\" y=\"-14.3\" font-family=\"Times,serif\" font-size=\"14.00\">ROPUF_0</text>\n",
       "</g>\n",
       "<!-- ps_in&#45;&gt;ROPUF_0 -->\n",
       "<g id=\"edge1\" class=\"edge\">\n",
       "<title>ps_in&#45;&gt;ROPUF_0</title>\n",
       "<path fill=\"none\" stroke=\"green\" d=\"M54.25,-18C81.01,-18 123.23,-18 156.75,-18\"/>\n",
       "<polygon fill=\"green\" stroke=\"green\" points=\"156.84,-21.5 166.84,-18 156.84,-14.5 156.84,-21.5\"/>\n",
       "<text text-anchor=\"start\" x=\"72\" y=\"-21.8\" font-family=\"Times,serif\" font-size=\"14.00\" fill=\"white\">si=3 mi=4</text>\n",
       "</g>\n",
       "<!-- ps_out -->\n",
       "<g id=\"node3\" class=\"node\">\n",
       "<title>ps_out</title>\n",
       "<polygon fill=\"none\" stroke=\"black\" points=\"428,-36 365,-36 365,0 428,0 428,-36\"/>\n",
       "<text text-anchor=\"middle\" x=\"396.5\" y=\"-14.3\" font-family=\"Times,serif\" font-size=\"14.00\">ps_out</text>\n",
       "</g>\n",
       "<!-- ROPUF_0&#45;&gt;ps_out -->\n",
       "<g id=\"edge2\" class=\"edge\">\n",
       "<title>ROPUF_0&#45;&gt;ps_out</title>\n",
       "<path fill=\"none\" stroke=\"green\" d=\"M252.02,-18C282.61,-18 324.02,-18 354.49,-18\"/>\n",
       "<polygon fill=\"green\" stroke=\"green\" points=\"354.77,-21.5 364.77,-18 354.77,-14.5 354.77,-21.5\"/>\n",
       "<text text-anchor=\"start\" x=\"270\" y=\"-21.8\" font-family=\"Times,serif\" font-size=\"14.00\" fill=\"white\">si=4 mi=1</text>\n",
       "</g>\n",
       "</g>\n",
       "</svg>\n"
      ],
      "text/plain": [
       "<graphviz.graphs.Digraph at 0xffffac808be0>"
      ]
     },
     "execution_count": 19,
     "metadata": {},
     "output_type": "execute_result"
    }
   ],
   "source": [
    "switch_PUF(0)\n",
    "PUF.graph"
   ]
  },
  {
   "cell_type": "code",
   "execution_count": 18,
   "id": "527df6c2",
   "metadata": {},
   "outputs": [
    {
     "name": "stdout",
     "output_type": "stream",
     "text": [
      "[2217]\n",
      "[2217]\n"
     ]
    }
   ],
   "source": [
    "input_buffer[:] = [int(\"0000\", base = 16)]\n",
    "for j in range(math.floor(buffer_size/2)):\n",
    "    index_l = j*2;\n",
    "    index_r = index_l + 2;\n",
    "    dma_send.transfer(input_buffer)\n",
    "    dma_send.wait()\n",
    "    dma_recv.transfer(output_buffer[index_l:index_r])\n",
    "    dma_recv.wait()\n",
    "print(output_buffer[::2]) #even index\n",
    "print(output_buffer[1::2]) #odd index"
   ]
  },
  {
   "cell_type": "code",
   "execution_count": null,
   "id": "6b98f017",
   "metadata": {},
   "outputs": [
    {
     "data": {
      "application/vnd.jupyter.widget-view+json": {
       "model_id": "abcfae067ad74e11bb8970203ca2b0e6",
       "version_major": 2,
       "version_minor": 0
      },
      "text/plain": [
       "  0%|          | 0/1 [00:00<?, ?it/s]"
      ]
     },
     "metadata": {},
     "output_type": "display_data"
    },
    {
     "data": {
      "image/png": "[encoded data removed]",
      "text/plain": [
       "<Figure size 432x288 with 1 Axes>"
      ]
     },
     "metadata": {
      "needs_background": "light"
     },
     "output_type": "display_data"
    }
   ],
   "source": [
    "# pdf of the oscillation frequency \n",
    "for j in tqdm(range(n_PUF)):\n",
    "    switch_PUF(j)\n",
    "    frequency = np.zeros(shape=(2,n_ROs)) #data1[y][x] \n",
    "    challenge = 0\n",
    "    for i in range(n_ROs):\n",
    "        input_buffer[:] = challenge\n",
    "        challenge = challenge + n_ROs + 1;\n",
    "        for j in range(math.floor(buffer_size/2)):\n",
    "            index_l = j*2;\n",
    "            index_r = index_l + 2;\n",
    "            dma_send.transfer(input_buffer)\n",
    "            dma_send.wait()\n",
    "            dma_recv.transfer(output_buffer[index_l:index_r])\n",
    "            dma_recv.wait()\n",
    "        frequency[0][i] = np.float32(output_buffer[::2])/wait_ns*clk_period_ns*100\n",
    "        frequency[1][i] = np.float32(output_buffer[1::2])/wait_ns*clk_period_ns*100\n",
    "    mu, std = norm.fit(frequency[0][:]) \n",
    "    plt.figure()\n",
    "    plt.hist(frequency[:][0], bins=25, density=True, alpha=0.6, color='b')\n",
    "    xmin, xmax = plt.xlim()\n",
    "    x = np.linspace(xmin, xmax, 100)\n",
    "    p = norm.pdf(x, mu, std)\n",
    "    plt.plot(x, p, 'k', linewidth=2)\n",
    "    title = \"Fit Values: {:.2f} (mu) and {:.2f} (std)\".format(mu, std)\n",
    "    plt.title(title)\n",
    "    plt.xlabel(\"Oscillation frequency (MHz)\")\n",
    "    plt.ylabel(\"Probability\")    \n",
    "    plt.show()"
   ]
  },
  {
   "cell_type": "code",
   "execution_count": 16,
   "id": "f91ea2e7",
   "metadata": {},
   "outputs": [],
   "source": [
    "# Returns a list of responses to all challenges of the 256 RO PUF \n",
    "def full_CR_space(PUF_index):\n",
    "    switch_PUF(PUF_index)\n",
    "    # Note: set buffer_size = 2\n",
    "    # N*(N-1)/2 unique pairs => \n",
    "    n_unique_pairs = math.floor(n_ROs*(n_ROs-1)/2) # 0 -> N-1 pairs, 1 -> N-2 pairs etc. Sum of N-1 to 1 \n",
    "    response = [0 for x in range(n_unique_pairs)]\n",
    "    challenge = 0\n",
    "    l = 0\n",
    "    for i in tqdm(range(n_ROs-1)):\n",
    "        challenge = challenge + (i+1);\n",
    "        for k in range(n_ROs - (i+1)):\n",
    "            input_buffer[:] = challenge\n",
    "            challenge = challenge + 1;\n",
    "            for j in range(math.floor(buffer_size/2)):\n",
    "                index_l = j*2;\n",
    "                index_r = index_l + 2;\n",
    "                dma_send.transfer(input_buffer)\n",
    "                dma_send.wait()\n",
    "                dma_recv.transfer(output_buffer[index_l:index_r])\n",
    "                dma_recv.wait()\n",
    "            output = list(output_buffer)\n",
    "            if (output[0] > output[1]):\n",
    "                response[l] = 1\n",
    "            else:\n",
    "                response[l] = 0\n",
    "            l = l +1\n",
    "    return response"
   ]
  },
  {
   "cell_type": "code",
   "execution_count": 17,
   "id": "60564108",
   "metadata": {},
   "outputs": [
    {
     "data": {
      "application/vnd.jupyter.widget-view+json": {
       "model_id": "c621723bdd0740abb145785e195994eb",
       "version_major": 2,
       "version_minor": 0
      },
      "text/plain": [
       "  0%|          | 0/255 [00:00<?, ?it/s]"
      ]
     },
     "metadata": {},
     "output_type": "display_data"
    },
    {
     "data": {
      "application/vnd.jupyter.widget-view+json": {
       "model_id": "dff89a3b7a5f4862b26c5b89ddf1a8c4",
       "version_major": 2,
       "version_minor": 0
      },
      "text/plain": [
       "  0%|          | 0/255 [00:00<?, ?it/s]"
      ]
     },
     "metadata": {},
     "output_type": "display_data"
    },
    {
     "data": {
      "application/vnd.jupyter.widget-view+json": {
       "model_id": "0f4edf85ffbb4fc3a1056c06801e8d59",
       "version_major": 2,
       "version_minor": 0
      },
      "text/plain": [
       "  0%|          | 0/255 [00:00<?, ?it/s]"
      ]
     },
     "metadata": {},
     "output_type": "display_data"
    },
    {
     "data": {
      "application/vnd.jupyter.widget-view+json": {
       "model_id": "aac1297540e94d3ba1d70216ed3fb748",
       "version_major": 2,
       "version_minor": 0
      },
      "text/plain": [
       "  0%|          | 0/255 [00:00<?, ?it/s]"
      ]
     },
     "metadata": {},
     "output_type": "display_data"
    },
    {
     "data": {
      "application/vnd.jupyter.widget-view+json": {
       "model_id": "87fd6d1d9f5b487c81c36f7b6b7a56fe",
       "version_major": 2,
       "version_minor": 0
      },
      "text/plain": [
       "  0%|          | 0/255 [00:00<?, ?it/s]"
      ]
     },
     "metadata": {},
     "output_type": "display_data"
    },
    {
     "data": {
      "application/vnd.jupyter.widget-view+json": {
       "model_id": "ca3bd73ce5304c55a316c13dcb37b63a",
       "version_major": 2,
       "version_minor": 0
      },
      "text/plain": [
       "  0%|          | 0/255 [00:00<?, ?it/s]"
      ]
     },
     "metadata": {},
     "output_type": "display_data"
    },
    {
     "data": {
      "application/vnd.jupyter.widget-view+json": {
       "model_id": "680c6aa57bb745d09a69c42e886e6828",
       "version_major": 2,
       "version_minor": 0
      },
      "text/plain": [
       "  0%|          | 0/255 [00:00<?, ?it/s]"
      ]
     },
     "metadata": {},
     "output_type": "display_data"
    },
    {
     "data": {
      "application/vnd.jupyter.widget-view+json": {
       "model_id": "b2b373a426644f9ba4236f842787a9cd",
       "version_major": 2,
       "version_minor": 0
      },
      "text/plain": [
       "  0%|          | 0/255 [00:00<?, ?it/s]"
      ]
     },
     "metadata": {},
     "output_type": "display_data"
    },
    {
     "data": {
      "application/vnd.jupyter.widget-view+json": {
       "model_id": "0139c713c1de434b9eddd0dfdaf8977b",
       "version_major": 2,
       "version_minor": 0
      },
      "text/plain": [
       "  0%|          | 0/255 [00:00<?, ?it/s]"
      ]
     },
     "metadata": {},
     "output_type": "display_data"
    },
    {
     "data": {
      "application/vnd.jupyter.widget-view+json": {
       "model_id": "30fd11df9f09408aacf51062a68f74d5",
       "version_major": 2,
       "version_minor": 0
      },
      "text/plain": [
       "  0%|          | 0/255 [00:00<?, ?it/s]"
      ]
     },
     "metadata": {},
     "output_type": "display_data"
    },
    {
     "data": {
      "application/vnd.jupyter.widget-view+json": {
       "model_id": "5551409abb754854acd4b18cf75c3eaa",
       "version_major": 2,
       "version_minor": 0
      },
      "text/plain": [
       "  0%|          | 0/255 [00:00<?, ?it/s]"
      ]
     },
     "metadata": {},
     "output_type": "display_data"
    },
    {
     "data": {
      "application/vnd.jupyter.widget-view+json": {
       "model_id": "a934f7b5c9084244b2d4f84377ecfd70",
       "version_major": 2,
       "version_minor": 0
      },
      "text/plain": [
       "  0%|          | 0/255 [00:00<?, ?it/s]"
      ]
     },
     "metadata": {},
     "output_type": "display_data"
    },
    {
     "data": {
      "application/vnd.jupyter.widget-view+json": {
       "model_id": "2b7f713ac5b34ddb964236763818fd01",
       "version_major": 2,
       "version_minor": 0
      },
      "text/plain": [
       "  0%|          | 0/255 [00:00<?, ?it/s]"
      ]
     },
     "metadata": {},
     "output_type": "display_data"
    },
    {
     "data": {
      "application/vnd.jupyter.widget-view+json": {
       "model_id": "54893fc0ace8414bbb5bca8c7cb0457f",
       "version_major": 2,
       "version_minor": 0
      },
      "text/plain": [
       "  0%|          | 0/255 [00:00<?, ?it/s]"
      ]
     },
     "metadata": {},
     "output_type": "display_data"
    },
    {
     "data": {
      "application/vnd.jupyter.widget-view+json": {
       "model_id": "93e424e38fe044a7a2b6a422a9f7b3aa",
       "version_major": 2,
       "version_minor": 0
      },
      "text/plain": [
       "  0%|          | 0/255 [00:00<?, ?it/s]"
      ]
     },
     "metadata": {},
     "output_type": "display_data"
    }
   ],
   "source": [
    "#Get all CR pairs of all devices\n",
    "n_unique_pairs = math.floor(n_ROs*(n_ROs-1)/2)\n",
    "response_matrix = [[0 for x in range(n_unique_pairs)] for y in range(n_PUF)] #[y][x]\n",
    "for i in range(n_PUF):\n",
    "    response_matrix[i][:] = full_CR_space(i)"
   ]
  },
  {
   "cell_type": "code",
   "execution_count": 18,
   "id": "e2b63d8c",
   "metadata": {},
   "outputs": [
    {
     "name": "stdout",
     "output_type": "stream",
     "text": [
      "[0.5202205882352942, 0.5056678921568627, 0.49353553921568627, 0.5180759803921569, 0.5053002450980392, 0.514031862745098, 0.4430453431372549, 0.5319546568627451, 0.49087009803921566, 0.5365808823529412, 0.5142769607843137, 0.465625, 0.5401960784313725, 0.473406862745098, 0.5033088235294118]\n"
     ]
    }
   ],
   "source": [
    "#Uniformity: ideal 0.5\n",
    "uniformity = [0 for x in range(n_PUF)]\n",
    "for i in range(n_PUF):\n",
    "    uniformity[i] = sum(response_matrix[i][:])/len(response_matrix[i][:])\n",
    "print(uniformity)"
   ]
  },
  {
   "cell_type": "code",
   "execution_count": 19,
   "id": "2dc49085",
   "metadata": {},
   "outputs": [
    {
     "name": "stdout",
     "output_type": "stream",
     "text": [
      "0.5026791549953314\n"
     ]
    }
   ],
   "source": [
    "#Uniqueness across all devices: ideal 0.5\n",
    "uniqueness = 0\n",
    "for i in range(n_PUF):\n",
    "    for j in range((i+1),n_PUF):\n",
    "        uniqueness = uniqueness + hamming(response_matrix[i][:],response_matrix[j][:])\n",
    "uniqueness = 2/(n_PUF*(n_PUF-1))*uniqueness\n",
    "print(uniqueness)"
   ]
  },
  {
   "cell_type": "code",
   "execution_count": 20,
   "id": "09bfa08b",
   "metadata": {},
   "outputs": [
    {
     "name": "stdout",
     "output_type": "stream",
     "text": [
      "[0.5043876925770308, 0.5116684173669467, 0.5028536414565826, 0.5105676645658263, 0.4901698179271709, 0.5028820903361344, 0.5009016106442576, 0.4931722689075631, 0.5049741771708685, 0.5068518032212884, 0.4934895833333333, 0.5039237570028012, 0.5019367121848739, 0.5090358018207283, 0.5033722864145658]\n"
     ]
    }
   ],
   "source": [
    "#Uniqueness of individual PUFs: ideal 0.5\n",
    "uniqueness_matrix = [0 for x in range(n_PUF)]\n",
    "\n",
    "for i in range(n_PUF):\n",
    "    uniqueness_single_device = 0\n",
    "    for j in range(n_PUF):\n",
    "        if i != j:\n",
    "            uniqueness_single_device = uniqueness_single_device + hamming(response_matrix[i][:],response_matrix[j][:])\n",
    "    uniqueness_matrix[i] = 1/(n_PUF-1)*uniqueness_single_device\n",
    "print(uniqueness_matrix)"
   ]
  },
  {
   "cell_type": "code",
   "execution_count": 258,
   "id": "455df2c6",
   "metadata": {},
   "outputs": [
    {
     "data": {
      "application/vnd.jupyter.widget-view+json": {
       "model_id": "12bf713762f54b7cbf36562b98330491",
       "version_major": 2,
       "version_minor": 0
      },
      "text/plain": [
       "  0%|          | 0/255 [00:00<?, ?it/s]"
      ]
     },
     "metadata": {},
     "output_type": "display_data"
    },
    {
     "data": {
      "application/vnd.jupyter.widget-view+json": {
       "model_id": "818b9e280a144495b1ea641b53d7ea62",
       "version_major": 2,
       "version_minor": 0
      },
      "text/plain": [
       "  0%|          | 0/255 [00:00<?, ?it/s]"
      ]
     },
     "metadata": {},
     "output_type": "display_data"
    }
   ],
   "source": [
    "#Get all CR pairs of the same device multiple times\n",
    "device = 0\n",
    "switch_PUF(0)\n",
    "response_matrix_single_device = [[0 for x in range(n_unique_pairs)] for y in range(2)] #[y][x]\n",
    "for i in range(2):\n",
    "    response_matrix[i][:] = full_CR_space(device)"
   ]
  },
  {
   "cell_type": "code",
   "execution_count": 260,
   "id": "8b28fe77",
   "metadata": {},
   "outputs": [
    {
     "name": "stdout",
     "output_type": "stream",
     "text": [
      "1.0\n"
     ]
    }
   ],
   "source": [
    "#Reliability no changing conditions: ideal 1.0\n",
    "reliability = 1 - hamming(response_matrix_single_device[0][:],response_matrix_single_device[1][:])\n",
    "print(reliability)"
   ]
  },
  {
   "cell_type": "code",
   "execution_count": 21,
   "id": "26ff5c55",
   "metadata": {
    "scrolled": true
   },
   "outputs": [
    {
     "data": {
      "application/vnd.jupyter.widget-view+json": {
       "model_id": "79991e79be5744d681dce2cdd4bc26b3",
       "version_major": 2,
       "version_minor": 0
      },
      "text/plain": [
       "  0%|          | 0/255 [00:00<?, ?it/s]"
      ]
     },
     "metadata": {},
     "output_type": "display_data"
    },
    {
     "data": {
      "application/vnd.jupyter.widget-view+json": {
       "model_id": "6cdc7c2cf67d428ea65763e6479222ea",
       "version_major": 2,
       "version_minor": 0
      },
      "text/plain": [
       "  0%|          | 0/255 [00:00<?, ?it/s]"
      ]
     },
     "metadata": {},
     "output_type": "display_data"
    },
    {
     "data": {
      "application/vnd.jupyter.widget-view+json": {
       "model_id": "326f42f868864829ad268bfa27985fb1",
       "version_major": 2,
       "version_minor": 0
      },
      "text/plain": [
       "  0%|          | 0/255 [00:00<?, ?it/s]"
      ]
     },
     "metadata": {},
     "output_type": "display_data"
    },
    {
     "data": {
      "application/vnd.jupyter.widget-view+json": {
       "model_id": "bd69520d69964b11b87bfbaf335434f8",
       "version_major": 2,
       "version_minor": 0
      },
      "text/plain": [
       "  0%|          | 0/255 [00:00<?, ?it/s]"
      ]
     },
     "metadata": {},
     "output_type": "display_data"
    },
    {
     "data": {
      "application/vnd.jupyter.widget-view+json": {
       "model_id": "a92ead4748734b25b72066cc849e30ff",
       "version_major": 2,
       "version_minor": 0
      },
      "text/plain": [
       "  0%|          | 0/255 [00:00<?, ?it/s]"
      ]
     },
     "metadata": {},
     "output_type": "display_data"
    },
    {
     "data": {
      "application/vnd.jupyter.widget-view+json": {
       "model_id": "b975965f6e824b18aa365c89b2359e9c",
       "version_major": 2,
       "version_minor": 0
      },
      "text/plain": [
       "  0%|          | 0/255 [00:00<?, ?it/s]"
      ]
     },
     "metadata": {},
     "output_type": "display_data"
    },
    {
     "data": {
      "application/vnd.jupyter.widget-view+json": {
       "model_id": "e7da22b6487e463197f94622d7c56ea5",
       "version_major": 2,
       "version_minor": 0
      },
      "text/plain": [
       "  0%|          | 0/255 [00:00<?, ?it/s]"
      ]
     },
     "metadata": {},
     "output_type": "display_data"
    },
    {
     "data": {
      "application/vnd.jupyter.widget-view+json": {
       "model_id": "427ca8a4925f4c278e85bcebe104bbd9",
       "version_major": 2,
       "version_minor": 0
      },
      "text/plain": [
       "  0%|          | 0/255 [00:00<?, ?it/s]"
      ]
     },
     "metadata": {},
     "output_type": "display_data"
    },
    {
     "data": {
      "application/vnd.jupyter.widget-view+json": {
       "model_id": "f139f6766310471fab5b784a7aa66eee",
       "version_major": 2,
       "version_minor": 0
      },
      "text/plain": [
       "  0%|          | 0/255 [00:00<?, ?it/s]"
      ]
     },
     "metadata": {},
     "output_type": "display_data"
    },
    {
     "data": {
      "application/vnd.jupyter.widget-view+json": {
       "model_id": "49ed52b170a54bdf8542ae802572dc30",
       "version_major": 2,
       "version_minor": 0
      },
      "text/plain": [
       "  0%|          | 0/255 [00:00<?, ?it/s]"
      ]
     },
     "metadata": {},
     "output_type": "display_data"
    },
    {
     "data": {
      "application/vnd.jupyter.widget-view+json": {
       "model_id": "2a89cc70968347f8804a4db29bacddcb",
       "version_major": 2,
       "version_minor": 0
      },
      "text/plain": [
       "  0%|          | 0/255 [00:00<?, ?it/s]"
      ]
     },
     "metadata": {},
     "output_type": "display_data"
    },
    {
     "data": {
      "application/vnd.jupyter.widget-view+json": {
       "model_id": "088ab9ae42c749779c1e2f4a7124a12f",
       "version_major": 2,
       "version_minor": 0
      },
      "text/plain": [
       "  0%|          | 0/255 [00:00<?, ?it/s]"
      ]
     },
     "metadata": {},
     "output_type": "display_data"
    },
    {
     "data": {
      "application/vnd.jupyter.widget-view+json": {
       "model_id": "cc38d8dcc13245d6bd85be3fa8d12052",
       "version_major": 2,
       "version_minor": 0
      },
      "text/plain": [
       "  0%|          | 0/255 [00:00<?, ?it/s]"
      ]
     },
     "metadata": {},
     "output_type": "display_data"
    },
    {
     "data": {
      "application/vnd.jupyter.widget-view+json": {
       "model_id": "7823c894be2d4951a68ceb9305398778",
       "version_major": 2,
       "version_minor": 0
      },
      "text/plain": [
       "  0%|          | 0/255 [00:00<?, ?it/s]"
      ]
     },
     "metadata": {},
     "output_type": "display_data"
    },
    {
     "data": {
      "application/vnd.jupyter.widget-view+json": {
       "model_id": "258c7e284a7144409f859cc0cb11a667",
       "version_major": 2,
       "version_minor": 0
      },
      "text/plain": [
       "  0%|          | 0/255 [00:00<?, ?it/s]"
      ]
     },
     "metadata": {},
     "output_type": "display_data"
    },
    {
     "data": {
      "application/vnd.jupyter.widget-view+json": {
       "model_id": "a5c9472fdb4a48c9a453d2fd19ec0f31",
       "version_major": 2,
       "version_minor": 0
      },
      "text/plain": [
       "  0%|          | 0/255 [00:00<?, ?it/s]"
      ]
     },
     "metadata": {},
     "output_type": "display_data"
    },
    {
     "data": {
      "application/vnd.jupyter.widget-view+json": {
       "model_id": "34246fa046c341e9bd0b7f2ebb58d2f7",
       "version_major": 2,
       "version_minor": 0
      },
      "text/plain": [
       "  0%|          | 0/255 [00:00<?, ?it/s]"
      ]
     },
     "metadata": {},
     "output_type": "display_data"
    },
    {
     "data": {
      "application/vnd.jupyter.widget-view+json": {
       "model_id": "f00d64ff58d9470aa9ffe73f58dba298",
       "version_major": 2,
       "version_minor": 0
      },
      "text/plain": [
       "  0%|          | 0/255 [00:00<?, ?it/s]"
      ]
     },
     "metadata": {},
     "output_type": "display_data"
    },
    {
     "data": {
      "application/vnd.jupyter.widget-view+json": {
       "model_id": "6ec67000999141ad9307ceaa1552394b",
       "version_major": 2,
       "version_minor": 0
      },
      "text/plain": [
       "  0%|          | 0/255 [00:00<?, ?it/s]"
      ]
     },
     "metadata": {},
     "output_type": "display_data"
    },
    {
     "data": {
      "application/vnd.jupyter.widget-view+json": {
       "model_id": "1cacc481b7034631b5b6ab6c6954aa24",
       "version_major": 2,
       "version_minor": 0
      },
      "text/plain": [
       "  0%|          | 0/255 [00:00<?, ?it/s]"
      ]
     },
     "metadata": {},
     "output_type": "display_data"
    },
    {
     "data": {
      "application/vnd.jupyter.widget-view+json": {
       "model_id": "aa26b711401643438746808447ec4b27",
       "version_major": 2,
       "version_minor": 0
      },
      "text/plain": [
       "  0%|          | 0/255 [00:00<?, ?it/s]"
      ]
     },
     "metadata": {},
     "output_type": "display_data"
    },
    {
     "data": {
      "application/vnd.jupyter.widget-view+json": {
       "model_id": "40f31665033947e8b51361eb2ad677ad",
       "version_major": 2,
       "version_minor": 0
      },
      "text/plain": [
       "  0%|          | 0/255 [00:00<?, ?it/s]"
      ]
     },
     "metadata": {},
     "output_type": "display_data"
    },
    {
     "data": {
      "application/vnd.jupyter.widget-view+json": {
       "model_id": "92ec167cf4484050bb1ff8aa8633064c",
       "version_major": 2,
       "version_minor": 0
      },
      "text/plain": [
       "  0%|          | 0/255 [00:00<?, ?it/s]"
      ]
     },
     "metadata": {},
     "output_type": "display_data"
    },
    {
     "data": {
      "application/vnd.jupyter.widget-view+json": {
       "model_id": "3e2354504fd143d98ee094267b18e9dd",
       "version_major": 2,
       "version_minor": 0
      },
      "text/plain": [
       "  0%|          | 0/255 [00:00<?, ?it/s]"
      ]
     },
     "metadata": {},
     "output_type": "display_data"
    },
    {
     "data": {
      "application/vnd.jupyter.widget-view+json": {
       "model_id": "824c8266d4c043908c6e15f75bc29675",
       "version_major": 2,
       "version_minor": 0
      },
      "text/plain": [
       "  0%|          | 0/255 [00:00<?, ?it/s]"
      ]
     },
     "metadata": {},
     "output_type": "display_data"
    },
    {
     "data": {
      "application/vnd.jupyter.widget-view+json": {
       "model_id": "ac573092bbe940c699633396fd566737",
       "version_major": 2,
       "version_minor": 0
      },
      "text/plain": [
       "  0%|          | 0/255 [00:00<?, ?it/s]"
      ]
     },
     "metadata": {},
     "output_type": "display_data"
    },
    {
     "data": {
      "application/vnd.jupyter.widget-view+json": {
       "model_id": "d9b8f9a70dde4834babb874d4276a3ee",
       "version_major": 2,
       "version_minor": 0
      },
      "text/plain": [
       "  0%|          | 0/255 [00:00<?, ?it/s]"
      ]
     },
     "metadata": {},
     "output_type": "display_data"
    },
    {
     "data": {
      "application/vnd.jupyter.widget-view+json": {
       "model_id": "8aaf1ca5795c42f489de24d420851656",
       "version_major": 2,
       "version_minor": 0
      },
      "text/plain": [
       "  0%|          | 0/255 [00:00<?, ?it/s]"
      ]
     },
     "metadata": {},
     "output_type": "display_data"
    },
    {
     "data": {
      "application/vnd.jupyter.widget-view+json": {
       "model_id": "dfd9252eedf947089c74f580b7962e7f",
       "version_major": 2,
       "version_minor": 0
      },
      "text/plain": [
       "  0%|          | 0/255 [00:00<?, ?it/s]"
      ]
     },
     "metadata": {},
     "output_type": "display_data"
    },
    {
     "data": {
      "application/vnd.jupyter.widget-view+json": {
       "model_id": "7b34c35ee38c4e8ebcdb0222648d993a",
       "version_major": 2,
       "version_minor": 0
      },
      "text/plain": [
       "  0%|          | 0/255 [00:00<?, ?it/s]"
      ]
     },
     "metadata": {},
     "output_type": "display_data"
    },
    {
     "data": {
      "application/vnd.jupyter.widget-view+json": {
       "model_id": "8f722de302f540c9a879e0eb871bca90",
       "version_major": 2,
       "version_minor": 0
      },
      "text/plain": [
       "  0%|          | 0/255 [00:00<?, ?it/s]"
      ]
     },
     "metadata": {},
     "output_type": "display_data"
    },
    {
     "data": {
      "application/vnd.jupyter.widget-view+json": {
       "model_id": "1b7354f963b84bcfac4adfd9dad2beab",
       "version_major": 2,
       "version_minor": 0
      },
      "text/plain": [
       "  0%|          | 0/255 [00:00<?, ?it/s]"
      ]
     },
     "metadata": {},
     "output_type": "display_data"
    },
    {
     "data": {
      "application/vnd.jupyter.widget-view+json": {
       "model_id": "59e29c5a60e34a0fa71c68f6a4b2ea2c",
       "version_major": 2,
       "version_minor": 0
      },
      "text/plain": [
       "  0%|          | 0/255 [00:00<?, ?it/s]"
      ]
     },
     "metadata": {},
     "output_type": "display_data"
    },
    {
     "data": {
      "application/vnd.jupyter.widget-view+json": {
       "model_id": "2a2a8dbf9a30488ebd5eadbc73af4f4f",
       "version_major": 2,
       "version_minor": 0
      },
      "text/plain": [
       "  0%|          | 0/255 [00:00<?, ?it/s]"
      ]
     },
     "metadata": {},
     "output_type": "display_data"
    },
    {
     "data": {
      "application/vnd.jupyter.widget-view+json": {
       "model_id": "12a96e22693045a691fea4f45a56950a",
       "version_major": 2,
       "version_minor": 0
      },
      "text/plain": [
       "  0%|          | 0/255 [00:00<?, ?it/s]"
      ]
     },
     "metadata": {},
     "output_type": "display_data"
    },
    {
     "data": {
      "application/vnd.jupyter.widget-view+json": {
       "model_id": "8208a46e8c9c4759b0ed7c4e6b1fa2c7",
       "version_major": 2,
       "version_minor": 0
      },
      "text/plain": [
       "  0%|          | 0/255 [00:00<?, ?it/s]"
      ]
     },
     "metadata": {},
     "output_type": "display_data"
    },
    {
     "data": {
      "application/vnd.jupyter.widget-view+json": {
       "model_id": "37231613cda04cdcbb60ca438019b1bb",
       "version_major": 2,
       "version_minor": 0
      },
      "text/plain": [
       "  0%|          | 0/255 [00:00<?, ?it/s]"
      ]
     },
     "metadata": {},
     "output_type": "display_data"
    },
    {
     "data": {
      "application/vnd.jupyter.widget-view+json": {
       "model_id": "2f2b9ad995924b85a5f06c04d41c25fe",
       "version_major": 2,
       "version_minor": 0
      },
      "text/plain": [
       "  0%|          | 0/255 [00:00<?, ?it/s]"
      ]
     },
     "metadata": {},
     "output_type": "display_data"
    },
    {
     "data": {
      "application/vnd.jupyter.widget-view+json": {
       "model_id": "02acf07a67e144a9ac253189140d57b7",
       "version_major": 2,
       "version_minor": 0
      },
      "text/plain": [
       "  0%|          | 0/255 [00:00<?, ?it/s]"
      ]
     },
     "metadata": {},
     "output_type": "display_data"
    },
    {
     "data": {
      "application/vnd.jupyter.widget-view+json": {
       "model_id": "741efd7772604a7dba4cb80f22f390dd",
       "version_major": 2,
       "version_minor": 0
      },
      "text/plain": [
       "  0%|          | 0/255 [00:00<?, ?it/s]"
      ]
     },
     "metadata": {},
     "output_type": "display_data"
    },
    {
     "data": {
      "application/vnd.jupyter.widget-view+json": {
       "model_id": "29e3b24366d848be926fde694e58995c",
       "version_major": 2,
       "version_minor": 0
      },
      "text/plain": [
       "  0%|          | 0/255 [00:00<?, ?it/s]"
      ]
     },
     "metadata": {},
     "output_type": "display_data"
    },
    {
     "data": {
      "application/vnd.jupyter.widget-view+json": {
       "model_id": "b28f0df6799749fbbebf137210a055ac",
       "version_major": 2,
       "version_minor": 0
      },
      "text/plain": [
       "  0%|          | 0/255 [00:00<?, ?it/s]"
      ]
     },
     "metadata": {},
     "output_type": "display_data"
    },
    {
     "data": {
      "application/vnd.jupyter.widget-view+json": {
       "model_id": "d4b1121ad0374652abe9977cd3f66423",
       "version_major": 2,
       "version_minor": 0
      },
      "text/plain": [
       "  0%|          | 0/255 [00:00<?, ?it/s]"
      ]
     },
     "metadata": {},
     "output_type": "display_data"
    },
    {
     "data": {
      "application/vnd.jupyter.widget-view+json": {
       "model_id": "fe45988826fa4fd186432aa935dda272",
       "version_major": 2,
       "version_minor": 0
      },
      "text/plain": [
       "  0%|          | 0/255 [00:00<?, ?it/s]"
      ]
     },
     "metadata": {},
     "output_type": "display_data"
    },
    {
     "data": {
      "application/vnd.jupyter.widget-view+json": {
       "model_id": "a666978abfac46c2a8b1fd1dedf07f60",
       "version_major": 2,
       "version_minor": 0
      },
      "text/plain": [
       "  0%|          | 0/255 [00:00<?, ?it/s]"
      ]
     },
     "metadata": {},
     "output_type": "display_data"
    },
    {
     "data": {
      "application/vnd.jupyter.widget-view+json": {
       "model_id": "57c2031f96dc4ee3a0f2021f6bba016c",
       "version_major": 2,
       "version_minor": 0
      },
      "text/plain": [
       "  0%|          | 0/255 [00:00<?, ?it/s]"
      ]
     },
     "metadata": {},
     "output_type": "display_data"
    },
    {
     "data": {
      "application/vnd.jupyter.widget-view+json": {
       "model_id": "2d486e4d37454d64bb362609795f8e14",
       "version_major": 2,
       "version_minor": 0
      },
      "text/plain": [
       "  0%|          | 0/255 [00:00<?, ?it/s]"
      ]
     },
     "metadata": {},
     "output_type": "display_data"
    },
    {
     "data": {
      "application/vnd.jupyter.widget-view+json": {
       "model_id": "0ee8ef85315d48659d1856239f29b41a",
       "version_major": 2,
       "version_minor": 0
      },
      "text/plain": [
       "  0%|          | 0/255 [00:00<?, ?it/s]"
      ]
     },
     "metadata": {},
     "output_type": "display_data"
    },
    {
     "data": {
      "application/vnd.jupyter.widget-view+json": {
       "model_id": "aca10aa9186d4093951a11a3c0e671cd",
       "version_major": 2,
       "version_minor": 0
      },
      "text/plain": [
       "  0%|          | 0/255 [00:00<?, ?it/s]"
      ]
     },
     "metadata": {},
     "output_type": "display_data"
    },
    {
     "data": {
      "application/vnd.jupyter.widget-view+json": {
       "model_id": "7ac16e125c5c44718d5522b240538ad8",
       "version_major": 2,
       "version_minor": 0
      },
      "text/plain": [
       "  0%|          | 0/255 [00:00<?, ?it/s]"
      ]
     },
     "metadata": {},
     "output_type": "display_data"
    },
    {
     "data": {
      "application/vnd.jupyter.widget-view+json": {
       "model_id": "075f7010769c41c1aa604cb95e88d634",
       "version_major": 2,
       "version_minor": 0
      },
      "text/plain": [
       "  0%|          | 0/255 [00:00<?, ?it/s]"
      ]
     },
     "metadata": {},
     "output_type": "display_data"
    },
    {
     "data": {
      "application/vnd.jupyter.widget-view+json": {
       "model_id": "3e2cb453ae994fed85a5668fdfc11bf1",
       "version_major": 2,
       "version_minor": 0
      },
      "text/plain": [
       "  0%|          | 0/255 [00:00<?, ?it/s]"
      ]
     },
     "metadata": {},
     "output_type": "display_data"
    },
    {
     "data": {
      "application/vnd.jupyter.widget-view+json": {
       "model_id": "c49801e1516d45e2aa0651e0984ecd73",
       "version_major": 2,
       "version_minor": 0
      },
      "text/plain": [
       "  0%|          | 0/255 [00:00<?, ?it/s]"
      ]
     },
     "metadata": {},
     "output_type": "display_data"
    },
    {
     "data": {
      "application/vnd.jupyter.widget-view+json": {
       "model_id": "cb912322ea0b46b4b8db68cb2ee87f50",
       "version_major": 2,
       "version_minor": 0
      },
      "text/plain": [
       "  0%|          | 0/255 [00:00<?, ?it/s]"
      ]
     },
     "metadata": {},
     "output_type": "display_data"
    },
    {
     "data": {
      "application/vnd.jupyter.widget-view+json": {
       "model_id": "b2dfbf7bd94548e1961b4de3af1a0799",
       "version_major": 2,
       "version_minor": 0
      },
      "text/plain": [
       "  0%|          | 0/255 [00:00<?, ?it/s]"
      ]
     },
     "metadata": {},
     "output_type": "display_data"
    },
    {
     "data": {
      "application/vnd.jupyter.widget-view+json": {
       "model_id": "b361f5c7b1e64c6dbe0698fb097b9310",
       "version_major": 2,
       "version_minor": 0
      },
      "text/plain": [
       "  0%|          | 0/255 [00:00<?, ?it/s]"
      ]
     },
     "metadata": {},
     "output_type": "display_data"
    },
    {
     "data": {
      "application/vnd.jupyter.widget-view+json": {
       "model_id": "39fa73eb195b4c2fbbedd3ab527ad403",
       "version_major": 2,
       "version_minor": 0
      },
      "text/plain": [
       "  0%|          | 0/255 [00:00<?, ?it/s]"
      ]
     },
     "metadata": {},
     "output_type": "display_data"
    },
    {
     "data": {
      "application/vnd.jupyter.widget-view+json": {
       "model_id": "72e757148b5542a291d510d031584df0",
       "version_major": 2,
       "version_minor": 0
      },
      "text/plain": [
       "  0%|          | 0/255 [00:00<?, ?it/s]"
      ]
     },
     "metadata": {},
     "output_type": "display_data"
    },
    {
     "data": {
      "application/vnd.jupyter.widget-view+json": {
       "model_id": "3c66a1b15d8e4dd687d5522f5c381774",
       "version_major": 2,
       "version_minor": 0
      },
      "text/plain": [
       "  0%|          | 0/255 [00:00<?, ?it/s]"
      ]
     },
     "metadata": {},
     "output_type": "display_data"
    },
    {
     "data": {
      "application/vnd.jupyter.widget-view+json": {
       "model_id": "e3b5c4b8deeb46dda28261540b326220",
       "version_major": 2,
       "version_minor": 0
      },
      "text/plain": [
       "  0%|          | 0/255 [00:00<?, ?it/s]"
      ]
     },
     "metadata": {},
     "output_type": "display_data"
    },
    {
     "data": {
      "application/vnd.jupyter.widget-view+json": {
       "model_id": "1e700a370a5e4fbca5a3a5bcc594e2de",
       "version_major": 2,
       "version_minor": 0
      },
      "text/plain": [
       "  0%|          | 0/255 [00:00<?, ?it/s]"
      ]
     },
     "metadata": {},
     "output_type": "display_data"
    },
    {
     "data": {
      "application/vnd.jupyter.widget-view+json": {
       "model_id": "e33f2110cda04e4199573cafcfe8ce66",
       "version_major": 2,
       "version_minor": 0
      },
      "text/plain": [
       "  0%|          | 0/255 [00:00<?, ?it/s]"
      ]
     },
     "metadata": {},
     "output_type": "display_data"
    },
    {
     "data": {
      "application/vnd.jupyter.widget-view+json": {
       "model_id": "05b2c3b53262445aaa4ea6d02f72483d",
       "version_major": 2,
       "version_minor": 0
      },
      "text/plain": [
       "  0%|          | 0/255 [00:00<?, ?it/s]"
      ]
     },
     "metadata": {},
     "output_type": "display_data"
    },
    {
     "data": {
      "application/vnd.jupyter.widget-view+json": {
       "model_id": "f9ca3546767f4e98a089753acdd229a7",
       "version_major": 2,
       "version_minor": 0
      },
      "text/plain": [
       "  0%|          | 0/255 [00:00<?, ?it/s]"
      ]
     },
     "metadata": {},
     "output_type": "display_data"
    },
    {
     "data": {
      "application/vnd.jupyter.widget-view+json": {
       "model_id": "4fccee13880b445ab274ae67c593ee41",
       "version_major": 2,
       "version_minor": 0
      },
      "text/plain": [
       "  0%|          | 0/255 [00:00<?, ?it/s]"
      ]
     },
     "metadata": {},
     "output_type": "display_data"
    },
    {
     "data": {
      "application/vnd.jupyter.widget-view+json": {
       "model_id": "de4949bf2bac40cd97b3b632fecbdea8",
       "version_major": 2,
       "version_minor": 0
      },
      "text/plain": [
       "  0%|          | 0/255 [00:00<?, ?it/s]"
      ]
     },
     "metadata": {},
     "output_type": "display_data"
    },
    {
     "data": {
      "application/vnd.jupyter.widget-view+json": {
       "model_id": "b7116d17fc4f4c2b9f3e30746602b685",
       "version_major": 2,
       "version_minor": 0
      },
      "text/plain": [
       "  0%|          | 0/255 [00:00<?, ?it/s]"
      ]
     },
     "metadata": {},
     "output_type": "display_data"
    },
    {
     "data": {
      "application/vnd.jupyter.widget-view+json": {
       "model_id": "968968bd80a949ebabfb55e187fb7fae",
       "version_major": 2,
       "version_minor": 0
      },
      "text/plain": [
       "  0%|          | 0/255 [00:00<?, ?it/s]"
      ]
     },
     "metadata": {},
     "output_type": "display_data"
    },
    {
     "data": {
      "application/vnd.jupyter.widget-view+json": {
       "model_id": "23afa6a4a3044a2583c96008d6252407",
       "version_major": 2,
       "version_minor": 0
      },
      "text/plain": [
       "  0%|          | 0/255 [00:00<?, ?it/s]"
      ]
     },
     "metadata": {},
     "output_type": "display_data"
    },
    {
     "data": {
      "application/vnd.jupyter.widget-view+json": {
       "model_id": "ef315f53e6ee46baa3c0f945e4ae7209",
       "version_major": 2,
       "version_minor": 0
      },
      "text/plain": [
       "  0%|          | 0/255 [00:00<?, ?it/s]"
      ]
     },
     "metadata": {},
     "output_type": "display_data"
    },
    {
     "data": {
      "application/vnd.jupyter.widget-view+json": {
       "model_id": "9558862a0b8d470b9b892cf6511e518e",
       "version_major": 2,
       "version_minor": 0
      },
      "text/plain": [
       "  0%|          | 0/255 [00:00<?, ?it/s]"
      ]
     },
     "metadata": {},
     "output_type": "display_data"
    },
    {
     "data": {
      "application/vnd.jupyter.widget-view+json": {
       "model_id": "fc9555576a2942ad9ded99a5192d533e",
       "version_major": 2,
       "version_minor": 0
      },
      "text/plain": [
       "  0%|          | 0/255 [00:00<?, ?it/s]"
      ]
     },
     "metadata": {},
     "output_type": "display_data"
    },
    {
     "data": {
      "application/vnd.jupyter.widget-view+json": {
       "model_id": "20c95483ba4a4327be08bde72a75d22e",
       "version_major": 2,
       "version_minor": 0
      },
      "text/plain": [
       "  0%|          | 0/255 [00:00<?, ?it/s]"
      ]
     },
     "metadata": {},
     "output_type": "display_data"
    },
    {
     "data": {
      "application/vnd.jupyter.widget-view+json": {
       "model_id": "980b51a30a1c4dcc944fef8f33b69405",
       "version_major": 2,
       "version_minor": 0
      },
      "text/plain": [
       "  0%|          | 0/255 [00:00<?, ?it/s]"
      ]
     },
     "metadata": {},
     "output_type": "display_data"
    },
    {
     "data": {
      "application/vnd.jupyter.widget-view+json": {
       "model_id": "9b4ef8037f8f4b9e87ddd22c04e9c3c8",
       "version_major": 2,
       "version_minor": 0
      },
      "text/plain": [
       "  0%|          | 0/255 [00:00<?, ?it/s]"
      ]
     },
     "metadata": {},
     "output_type": "display_data"
    },
    {
     "data": {
      "application/vnd.jupyter.widget-view+json": {
       "model_id": "4be78ff7bcf54268b3dc6768cbb61440",
       "version_major": 2,
       "version_minor": 0
      },
      "text/plain": [
       "  0%|          | 0/255 [00:00<?, ?it/s]"
      ]
     },
     "metadata": {},
     "output_type": "display_data"
    },
    {
     "data": {
      "application/vnd.jupyter.widget-view+json": {
       "model_id": "abf56087bd7e4d7dbe11ac95c0b8f879",
       "version_major": 2,
       "version_minor": 0
      },
      "text/plain": [
       "  0%|          | 0/255 [00:00<?, ?it/s]"
      ]
     },
     "metadata": {},
     "output_type": "display_data"
    },
    {
     "data": {
      "application/vnd.jupyter.widget-view+json": {
       "model_id": "a06666fb589d43b3813ace4fae921f69",
       "version_major": 2,
       "version_minor": 0
      },
      "text/plain": [
       "  0%|          | 0/255 [00:00<?, ?it/s]"
      ]
     },
     "metadata": {},
     "output_type": "display_data"
    },
    {
     "data": {
      "application/vnd.jupyter.widget-view+json": {
       "model_id": "561e153a984c4d89895fc2059004ea68",
       "version_major": 2,
       "version_minor": 0
      },
      "text/plain": [
       "  0%|          | 0/255 [00:00<?, ?it/s]"
      ]
     },
     "metadata": {},
     "output_type": "display_data"
    },
    {
     "data": {
      "application/vnd.jupyter.widget-view+json": {
       "model_id": "01deac879838440f988644e3d553f57e",
       "version_major": 2,
       "version_minor": 0
      },
      "text/plain": [
       "  0%|          | 0/255 [00:00<?, ?it/s]"
      ]
     },
     "metadata": {},
     "output_type": "display_data"
    },
    {
     "data": {
      "application/vnd.jupyter.widget-view+json": {
       "model_id": "4785f87863e844cf81f323a4089a49a7",
       "version_major": 2,
       "version_minor": 0
      },
      "text/plain": [
       "  0%|          | 0/255 [00:00<?, ?it/s]"
      ]
     },
     "metadata": {},
     "output_type": "display_data"
    },
    {
     "data": {
      "application/vnd.jupyter.widget-view+json": {
       "model_id": "a2809aacfbf94095b42f8e50a0aa6fed",
       "version_major": 2,
       "version_minor": 0
      },
      "text/plain": [
       "  0%|          | 0/255 [00:00<?, ?it/s]"
      ]
     },
     "metadata": {},
     "output_type": "display_data"
    },
    {
     "data": {
      "application/vnd.jupyter.widget-view+json": {
       "model_id": "450dcd3e274d4b3bb3f2d56be373ce28",
       "version_major": 2,
       "version_minor": 0
      },
      "text/plain": [
       "  0%|          | 0/255 [00:00<?, ?it/s]"
      ]
     },
     "metadata": {},
     "output_type": "display_data"
    },
    {
     "data": {
      "application/vnd.jupyter.widget-view+json": {
       "model_id": "875aede18ad6482aa8980bf3882e5ba1",
       "version_major": 2,
       "version_minor": 0
      },
      "text/plain": [
       "  0%|          | 0/255 [00:00<?, ?it/s]"
      ]
     },
     "metadata": {},
     "output_type": "display_data"
    },
    {
     "data": {
      "application/vnd.jupyter.widget-view+json": {
       "model_id": "311a4cd041e44b1d96134d5af6e35612",
       "version_major": 2,
       "version_minor": 0
      },
      "text/plain": [
       "  0%|          | 0/255 [00:00<?, ?it/s]"
      ]
     },
     "metadata": {},
     "output_type": "display_data"
    },
    {
     "data": {
      "application/vnd.jupyter.widget-view+json": {
       "model_id": "6aea45b6cee54e6d8ab09b12bcaa41bb",
       "version_major": 2,
       "version_minor": 0
      },
      "text/plain": [
       "  0%|          | 0/255 [00:00<?, ?it/s]"
      ]
     },
     "metadata": {},
     "output_type": "display_data"
    },
    {
     "data": {
      "application/vnd.jupyter.widget-view+json": {
       "model_id": "3d7298ad115f40a6b031658ab6cbd802",
       "version_major": 2,
       "version_minor": 0
      },
      "text/plain": [
       "  0%|          | 0/255 [00:00<?, ?it/s]"
      ]
     },
     "metadata": {},
     "output_type": "display_data"
    },
    {
     "data": {
      "application/vnd.jupyter.widget-view+json": {
       "model_id": "3c24bc9894904a619da259ab65a417f5",
       "version_major": 2,
       "version_minor": 0
      },
      "text/plain": [
       "  0%|          | 0/255 [00:00<?, ?it/s]"
      ]
     },
     "metadata": {},
     "output_type": "display_data"
    },
    {
     "data": {
      "application/vnd.jupyter.widget-view+json": {
       "model_id": "11f7913abcb34514babc6149dc0f8329",
       "version_major": 2,
       "version_minor": 0
      },
      "text/plain": [
       "  0%|          | 0/255 [00:00<?, ?it/s]"
      ]
     },
     "metadata": {},
     "output_type": "display_data"
    },
    {
     "data": {
      "application/vnd.jupyter.widget-view+json": {
       "model_id": "3150599e043a4aff9e56500a73ac3c9a",
       "version_major": 2,
       "version_minor": 0
      },
      "text/plain": [
       "  0%|          | 0/255 [00:00<?, ?it/s]"
      ]
     },
     "metadata": {},
     "output_type": "display_data"
    },
    {
     "data": {
      "application/vnd.jupyter.widget-view+json": {
       "model_id": "4351d09d34044e5499dc1c1b47477fc3",
       "version_major": 2,
       "version_minor": 0
      },
      "text/plain": [
       "  0%|          | 0/255 [00:00<?, ?it/s]"
      ]
     },
     "metadata": {},
     "output_type": "display_data"
    },
    {
     "data": {
      "application/vnd.jupyter.widget-view+json": {
       "model_id": "e78e5daf1fd0406a9d23c13044e90e83",
       "version_major": 2,
       "version_minor": 0
      },
      "text/plain": [
       "  0%|          | 0/255 [00:00<?, ?it/s]"
      ]
     },
     "metadata": {},
     "output_type": "display_data"
    },
    {
     "data": {
      "application/vnd.jupyter.widget-view+json": {
       "model_id": "e73d765a3d6f431ebd8a7fb6590914df",
       "version_major": 2,
       "version_minor": 0
      },
      "text/plain": [
       "  0%|          | 0/255 [00:00<?, ?it/s]"
      ]
     },
     "metadata": {},
     "output_type": "display_data"
    },
    {
     "data": {
      "application/vnd.jupyter.widget-view+json": {
       "model_id": "f56b5ba6161b4c248f9d005477f898a3",
       "version_major": 2,
       "version_minor": 0
      },
      "text/plain": [
       "  0%|          | 0/255 [00:00<?, ?it/s]"
      ]
     },
     "metadata": {},
     "output_type": "display_data"
    },
    {
     "data": {
      "application/vnd.jupyter.widget-view+json": {
       "model_id": "290e34185c6e42c1a7481cab5355feaf",
       "version_major": 2,
       "version_minor": 0
      },
      "text/plain": [
       "  0%|          | 0/255 [00:00<?, ?it/s]"
      ]
     },
     "metadata": {},
     "output_type": "display_data"
    },
    {
     "data": {
      "application/vnd.jupyter.widget-view+json": {
       "model_id": "23eadf5be341452a89b7593242ff80ac",
       "version_major": 2,
       "version_minor": 0
      },
      "text/plain": [
       "  0%|          | 0/255 [00:00<?, ?it/s]"
      ]
     },
     "metadata": {},
     "output_type": "display_data"
    },
    {
     "data": {
      "application/vnd.jupyter.widget-view+json": {
       "model_id": "2428371449c74087aa75cb3e83496cae",
       "version_major": 2,
       "version_minor": 0
      },
      "text/plain": [
       "  0%|          | 0/255 [00:00<?, ?it/s]"
      ]
     },
     "metadata": {},
     "output_type": "display_data"
    },
    {
     "data": {
      "application/vnd.jupyter.widget-view+json": {
       "model_id": "6717f185c46e41fcab5f72899c6c329c",
       "version_major": 2,
       "version_minor": 0
      },
      "text/plain": [
       "  0%|          | 0/255 [00:00<?, ?it/s]"
      ]
     },
     "metadata": {},
     "output_type": "display_data"
    },
    {
     "data": {
      "application/vnd.jupyter.widget-view+json": {
       "model_id": "1d3df7b9453e47349b88700369e9807a",
       "version_major": 2,
       "version_minor": 0
      },
      "text/plain": [
       "  0%|          | 0/255 [00:00<?, ?it/s]"
      ]
     },
     "metadata": {},
     "output_type": "display_data"
    },
    {
     "data": {
      "application/vnd.jupyter.widget-view+json": {
       "model_id": "829c16be4fde49078cec207d01f78033",
       "version_major": 2,
       "version_minor": 0
      },
      "text/plain": [
       "  0%|          | 0/255 [00:00<?, ?it/s]"
      ]
     },
     "metadata": {},
     "output_type": "display_data"
    },
    {
     "data": {
      "application/vnd.jupyter.widget-view+json": {
       "model_id": "0fc5e9b5ae1143b4bc172fed35f3d57e",
       "version_major": 2,
       "version_minor": 0
      },
      "text/plain": [
       "  0%|          | 0/255 [00:00<?, ?it/s]"
      ]
     },
     "metadata": {},
     "output_type": "display_data"
    },
    {
     "data": {
      "application/vnd.jupyter.widget-view+json": {
       "model_id": "0c9d6fb90260404d878fd7300c02afc8",
       "version_major": 2,
       "version_minor": 0
      },
      "text/plain": [
       "  0%|          | 0/255 [00:00<?, ?it/s]"
      ]
     },
     "metadata": {},
     "output_type": "display_data"
    },
    {
     "data": {
      "application/vnd.jupyter.widget-view+json": {
       "model_id": "7d2372dd2bb7489d92c0eaaa3fb98a26",
       "version_major": 2,
       "version_minor": 0
      },
      "text/plain": [
       "  0%|          | 0/255 [00:00<?, ?it/s]"
      ]
     },
     "metadata": {},
     "output_type": "display_data"
    },
    {
     "data": {
      "application/vnd.jupyter.widget-view+json": {
       "model_id": "4bf7e8b7f4754dceac27f5b28e774a0c",
       "version_major": 2,
       "version_minor": 0
      },
      "text/plain": [
       "  0%|          | 0/255 [00:00<?, ?it/s]"
      ]
     },
     "metadata": {},
     "output_type": "display_data"
    },
    {
     "data": {
      "application/vnd.jupyter.widget-view+json": {
       "model_id": "01336c5d51294fd7916d2ceb5760eb7e",
       "version_major": 2,
       "version_minor": 0
      },
      "text/plain": [
       "  0%|          | 0/255 [00:00<?, ?it/s]"
      ]
     },
     "metadata": {},
     "output_type": "display_data"
    },
    {
     "data": {
      "application/vnd.jupyter.widget-view+json": {
       "model_id": "07347f28f2034d6382787721bd86c41a",
       "version_major": 2,
       "version_minor": 0
      },
      "text/plain": [
       "  0%|          | 0/255 [00:00<?, ?it/s]"
      ]
     },
     "metadata": {},
     "output_type": "display_data"
    },
    {
     "data": {
      "application/vnd.jupyter.widget-view+json": {
       "model_id": "b34958b955d84f67aad58b71447a7e8f",
       "version_major": 2,
       "version_minor": 0
      },
      "text/plain": [
       "  0%|          | 0/255 [00:00<?, ?it/s]"
      ]
     },
     "metadata": {},
     "output_type": "display_data"
    },
    {
     "data": {
      "application/vnd.jupyter.widget-view+json": {
       "model_id": "164af78747754812a6e7054cbfe2bb0d",
       "version_major": 2,
       "version_minor": 0
      },
      "text/plain": [
       "  0%|          | 0/255 [00:00<?, ?it/s]"
      ]
     },
     "metadata": {},
     "output_type": "display_data"
    },
    {
     "data": {
      "application/vnd.jupyter.widget-view+json": {
       "model_id": "7468a532e4f146f8a03eb0c8e31eec56",
       "version_major": 2,
       "version_minor": 0
      },
      "text/plain": [
       "  0%|          | 0/255 [00:00<?, ?it/s]"
      ]
     },
     "metadata": {},
     "output_type": "display_data"
    },
    {
     "data": {
      "application/vnd.jupyter.widget-view+json": {
       "model_id": "fad247e46eb44ccfbd05d6442887b3c8",
       "version_major": 2,
       "version_minor": 0
      },
      "text/plain": [
       "  0%|          | 0/255 [00:00<?, ?it/s]"
      ]
     },
     "metadata": {},
     "output_type": "display_data"
    },
    {
     "data": {
      "application/vnd.jupyter.widget-view+json": {
       "model_id": "3978903932794aebba9e7e1f8b4bbb72",
       "version_major": 2,
       "version_minor": 0
      },
      "text/plain": [
       "  0%|          | 0/255 [00:00<?, ?it/s]"
      ]
     },
     "metadata": {},
     "output_type": "display_data"
    },
    {
     "data": {
      "application/vnd.jupyter.widget-view+json": {
       "model_id": "f50b4b435160407f8b922924b6ffa2e6",
       "version_major": 2,
       "version_minor": 0
      },
      "text/plain": [
       "  0%|          | 0/255 [00:00<?, ?it/s]"
      ]
     },
     "metadata": {},
     "output_type": "display_data"
    },
    {
     "data": {
      "application/vnd.jupyter.widget-view+json": {
       "model_id": "4a3384ba57f4446585efb47049860532",
       "version_major": 2,
       "version_minor": 0
      },
      "text/plain": [
       "  0%|          | 0/255 [00:00<?, ?it/s]"
      ]
     },
     "metadata": {},
     "output_type": "display_data"
    },
    {
     "data": {
      "application/vnd.jupyter.widget-view+json": {
       "model_id": "e7b4bec0270c425693199c100f799ead",
       "version_major": 2,
       "version_minor": 0
      },
      "text/plain": [
       "  0%|          | 0/255 [00:00<?, ?it/s]"
      ]
     },
     "metadata": {},
     "output_type": "display_data"
    },
    {
     "data": {
      "application/vnd.jupyter.widget-view+json": {
       "model_id": "334429a9f7614aeaab5c3a56d3381bcc",
       "version_major": 2,
       "version_minor": 0
      },
      "text/plain": [
       "  0%|          | 0/255 [00:00<?, ?it/s]"
      ]
     },
     "metadata": {},
     "output_type": "display_data"
    },
    {
     "data": {
      "application/vnd.jupyter.widget-view+json": {
       "model_id": "3654f53a2dfc45d79693e16c906bbbb1",
       "version_major": 2,
       "version_minor": 0
      },
      "text/plain": [
       "  0%|          | 0/255 [00:00<?, ?it/s]"
      ]
     },
     "metadata": {},
     "output_type": "display_data"
    },
    {
     "data": {
      "application/vnd.jupyter.widget-view+json": {
       "model_id": "28de00149c684bdd82ceb8605135d42a",
       "version_major": 2,
       "version_minor": 0
      },
      "text/plain": [
       "  0%|          | 0/255 [00:00<?, ?it/s]"
      ]
     },
     "metadata": {},
     "output_type": "display_data"
    },
    {
     "data": {
      "application/vnd.jupyter.widget-view+json": {
       "model_id": "94a701b2faab4db589c7ca4ca5886772",
       "version_major": 2,
       "version_minor": 0
      },
      "text/plain": [
       "  0%|          | 0/255 [00:00<?, ?it/s]"
      ]
     },
     "metadata": {},
     "output_type": "display_data"
    },
    {
     "data": {
      "application/vnd.jupyter.widget-view+json": {
       "model_id": "319c8b12a3cd4b47bd015f447a1dc5b4",
       "version_major": 2,
       "version_minor": 0
      },
      "text/plain": [
       "  0%|          | 0/255 [00:00<?, ?it/s]"
      ]
     },
     "metadata": {},
     "output_type": "display_data"
    },
    {
     "data": {
      "application/vnd.jupyter.widget-view+json": {
       "model_id": "92a7e9b7ee494bd3a90a2a47b45d2399",
       "version_major": 2,
       "version_minor": 0
      },
      "text/plain": [
       "  0%|          | 0/255 [00:00<?, ?it/s]"
      ]
     },
     "metadata": {},
     "output_type": "display_data"
    },
    {
     "data": {
      "application/vnd.jupyter.widget-view+json": {
       "model_id": "2a41996865964b5ca405763e60d53e39",
       "version_major": 2,
       "version_minor": 0
      },
      "text/plain": [
       "  0%|          | 0/255 [00:00<?, ?it/s]"
      ]
     },
     "metadata": {},
     "output_type": "display_data"
    },
    {
     "data": {
      "application/vnd.jupyter.widget-view+json": {
       "model_id": "1f4d330dbb5845e7be97c65b4c232d4b",
       "version_major": 2,
       "version_minor": 0
      },
      "text/plain": [
       "  0%|          | 0/255 [00:00<?, ?it/s]"
      ]
     },
     "metadata": {},
     "output_type": "display_data"
    },
    {
     "data": {
      "application/vnd.jupyter.widget-view+json": {
       "model_id": "7ffdbcd16c1b4d2abc5cc2633e6143c8",
       "version_major": 2,
       "version_minor": 0
      },
      "text/plain": [
       "  0%|          | 0/255 [00:00<?, ?it/s]"
      ]
     },
     "metadata": {},
     "output_type": "display_data"
    },
    {
     "data": {
      "application/vnd.jupyter.widget-view+json": {
       "model_id": "68549b9e28064a6b9d8e63094a4635f8",
       "version_major": 2,
       "version_minor": 0
      },
      "text/plain": [
       "  0%|          | 0/255 [00:00<?, ?it/s]"
      ]
     },
     "metadata": {},
     "output_type": "display_data"
    },
    {
     "data": {
      "application/vnd.jupyter.widget-view+json": {
       "model_id": "533b1db3a1a245d7bf55f6317f2f72e1",
       "version_major": 2,
       "version_minor": 0
      },
      "text/plain": [
       "  0%|          | 0/255 [00:00<?, ?it/s]"
      ]
     },
     "metadata": {},
     "output_type": "display_data"
    },
    {
     "data": {
      "application/vnd.jupyter.widget-view+json": {
       "model_id": "f86553bbb58a4a97b8eda7f77925bd3b",
       "version_major": 2,
       "version_minor": 0
      },
      "text/plain": [
       "  0%|          | 0/255 [00:00<?, ?it/s]"
      ]
     },
     "metadata": {},
     "output_type": "display_data"
    },
    {
     "data": {
      "application/vnd.jupyter.widget-view+json": {
       "model_id": "d1c5f78652f24cbab37fc1fd95474a41",
       "version_major": 2,
       "version_minor": 0
      },
      "text/plain": [
       "  0%|          | 0/255 [00:00<?, ?it/s]"
      ]
     },
     "metadata": {},
     "output_type": "display_data"
    },
    {
     "data": {
      "application/vnd.jupyter.widget-view+json": {
       "model_id": "fa958281d63740b0bff21a941859973c",
       "version_major": 2,
       "version_minor": 0
      },
      "text/plain": [
       "  0%|          | 0/255 [00:00<?, ?it/s]"
      ]
     },
     "metadata": {},
     "output_type": "display_data"
    },
    {
     "data": {
      "application/vnd.jupyter.widget-view+json": {
       "model_id": "4e27315c5a1649a39adc8620037885d5",
       "version_major": 2,
       "version_minor": 0
      },
      "text/plain": [
       "  0%|          | 0/255 [00:00<?, ?it/s]"
      ]
     },
     "metadata": {},
     "output_type": "display_data"
    },
    {
     "data": {
      "application/vnd.jupyter.widget-view+json": {
       "model_id": "a4f892586de74795b043f559e4fa2ebd",
       "version_major": 2,
       "version_minor": 0
      },
      "text/plain": [
       "  0%|          | 0/255 [00:00<?, ?it/s]"
      ]
     },
     "metadata": {},
     "output_type": "display_data"
    },
    {
     "data": {
      "application/vnd.jupyter.widget-view+json": {
       "model_id": "ef0d72aeb0f34f88a06a97ac266070fb",
       "version_major": 2,
       "version_minor": 0
      },
      "text/plain": [
       "  0%|          | 0/255 [00:00<?, ?it/s]"
      ]
     },
     "metadata": {},
     "output_type": "display_data"
    },
    {
     "data": {
      "application/vnd.jupyter.widget-view+json": {
       "model_id": "72d6840207c9446fa213330a4b1d4636",
       "version_major": 2,
       "version_minor": 0
      },
      "text/plain": [
       "  0%|          | 0/255 [00:00<?, ?it/s]"
      ]
     },
     "metadata": {},
     "output_type": "display_data"
    },
    {
     "data": {
      "application/vnd.jupyter.widget-view+json": {
       "model_id": "0efd3cecfd1f450f98bf7adf8b1cc45d",
       "version_major": 2,
       "version_minor": 0
      },
      "text/plain": [
       "  0%|          | 0/255 [00:00<?, ?it/s]"
      ]
     },
     "metadata": {},
     "output_type": "display_data"
    },
    {
     "data": {
      "application/vnd.jupyter.widget-view+json": {
       "model_id": "930c2ff77d2647ed9717cd2dab54912d",
       "version_major": 2,
       "version_minor": 0
      },
      "text/plain": [
       "  0%|          | 0/255 [00:00<?, ?it/s]"
      ]
     },
     "metadata": {},
     "output_type": "display_data"
    },
    {
     "data": {
      "application/vnd.jupyter.widget-view+json": {
       "model_id": "cfdc71cdd0b147df9078266b287d2940",
       "version_major": 2,
       "version_minor": 0
      },
      "text/plain": [
       "  0%|          | 0/255 [00:00<?, ?it/s]"
      ]
     },
     "metadata": {},
     "output_type": "display_data"
    },
    {
     "data": {
      "application/vnd.jupyter.widget-view+json": {
       "model_id": "82a77bea961345e29fb282a23ed2a372",
       "version_major": 2,
       "version_minor": 0
      },
      "text/plain": [
       "  0%|          | 0/255 [00:00<?, ?it/s]"
      ]
     },
     "metadata": {},
     "output_type": "display_data"
    },
    {
     "data": {
      "application/vnd.jupyter.widget-view+json": {
       "model_id": "983efb0278a6423b96458be7cafc2d00",
       "version_major": 2,
       "version_minor": 0
      },
      "text/plain": [
       "  0%|          | 0/255 [00:00<?, ?it/s]"
      ]
     },
     "metadata": {},
     "output_type": "display_data"
    },
    {
     "data": {
      "application/vnd.jupyter.widget-view+json": {
       "model_id": "53233f420dcc48ba9e6be2932fc95e88",
       "version_major": 2,
       "version_minor": 0
      },
      "text/plain": [
       "  0%|          | 0/255 [00:00<?, ?it/s]"
      ]
     },
     "metadata": {},
     "output_type": "display_data"
    },
    {
     "data": {
      "application/vnd.jupyter.widget-view+json": {
       "model_id": "14cad56985c94625a9ec541cd22b95b2",
       "version_major": 2,
       "version_minor": 0
      },
      "text/plain": [
       "  0%|          | 0/255 [00:00<?, ?it/s]"
      ]
     },
     "metadata": {},
     "output_type": "display_data"
    },
    {
     "data": {
      "application/vnd.jupyter.widget-view+json": {
       "model_id": "34b3546f129e4ab2bcf06bc8af18efbf",
       "version_major": 2,
       "version_minor": 0
      },
      "text/plain": [
       "  0%|          | 0/255 [00:00<?, ?it/s]"
      ]
     },
     "metadata": {},
     "output_type": "display_data"
    },
    {
     "data": {
      "application/vnd.jupyter.widget-view+json": {
       "model_id": "e144449ee69b41a495c7681afb05e6af",
       "version_major": 2,
       "version_minor": 0
      },
      "text/plain": [
       "  0%|          | 0/255 [00:00<?, ?it/s]"
      ]
     },
     "metadata": {},
     "output_type": "display_data"
    },
    {
     "data": {
      "application/vnd.jupyter.widget-view+json": {
       "model_id": "d07617d1cc1d4df9abe5eb7a73ac19c9",
       "version_major": 2,
       "version_minor": 0
      },
      "text/plain": [
       "  0%|          | 0/255 [00:00<?, ?it/s]"
      ]
     },
     "metadata": {},
     "output_type": "display_data"
    },
    {
     "data": {
      "application/vnd.jupyter.widget-view+json": {
       "model_id": "761b4a654d0445ecb6579784656e191e",
       "version_major": 2,
       "version_minor": 0
      },
      "text/plain": [
       "  0%|          | 0/255 [00:00<?, ?it/s]"
      ]
     },
     "metadata": {},
     "output_type": "display_data"
    },
    {
     "data": {
      "application/vnd.jupyter.widget-view+json": {
       "model_id": "e794b06387eb4cf9835d7b58851a4a29",
       "version_major": 2,
       "version_minor": 0
      },
      "text/plain": [
       "  0%|          | 0/255 [00:00<?, ?it/s]"
      ]
     },
     "metadata": {},
     "output_type": "display_data"
    },
    {
     "data": {
      "application/vnd.jupyter.widget-view+json": {
       "model_id": "90b391e1aeef45c58c4c6f98a2a192c8",
       "version_major": 2,
       "version_minor": 0
      },
      "text/plain": [
       "  0%|          | 0/255 [00:00<?, ?it/s]"
      ]
     },
     "metadata": {},
     "output_type": "display_data"
    },
    {
     "data": {
      "application/vnd.jupyter.widget-view+json": {
       "model_id": "c386b43520634bdfba046933e35abd9c",
       "version_major": 2,
       "version_minor": 0
      },
      "text/plain": [
       "  0%|          | 0/255 [00:00<?, ?it/s]"
      ]
     },
     "metadata": {},
     "output_type": "display_data"
    },
    {
     "data": {
      "application/vnd.jupyter.widget-view+json": {
       "model_id": "e9594c7f635b4baeb57f7441d39114c4",
       "version_major": 2,
       "version_minor": 0
      },
      "text/plain": [
       "  0%|          | 0/255 [00:00<?, ?it/s]"
      ]
     },
     "metadata": {},
     "output_type": "display_data"
    },
    {
     "data": {
      "application/vnd.jupyter.widget-view+json": {
       "model_id": "b18d4798ba3848dd8e0b76ad749eed92",
       "version_major": 2,
       "version_minor": 0
      },
      "text/plain": [
       "  0%|          | 0/255 [00:00<?, ?it/s]"
      ]
     },
     "metadata": {},
     "output_type": "display_data"
    },
    {
     "data": {
      "application/vnd.jupyter.widget-view+json": {
       "model_id": "a743f4425f37461cb65470b755ee77b8",
       "version_major": 2,
       "version_minor": 0
      },
      "text/plain": [
       "  0%|          | 0/255 [00:00<?, ?it/s]"
      ]
     },
     "metadata": {},
     "output_type": "display_data"
    },
    {
     "data": {
      "application/vnd.jupyter.widget-view+json": {
       "model_id": "daf1525d0b4b4b29a89cf7d30c947f22",
       "version_major": 2,
       "version_minor": 0
      },
      "text/plain": [
       "  0%|          | 0/255 [00:00<?, ?it/s]"
      ]
     },
     "metadata": {},
     "output_type": "display_data"
    }
   ],
   "source": [
    "#Reliability of all devices: ideal 1.0\n",
    "reliability_matrix = [0 for x in range(n_PUF)] #[y][x]\n",
    "n_of_runs = 10\n",
    "for i in range(n_PUF):\n",
    "    response_matrix_single_device = [[0 for x in range(n_unique_pairs)] for y in range(n_of_runs)] #[y][x]\n",
    "    for j in range(n_of_runs):\n",
    "        response_matrix_single_device[j][:] = full_CR_space(i)\n",
    "    n_HD = math.floor(n_of_runs*(n_of_runs-1)/2)\n",
    "    HD = [0 for x in range(n_HD)]\n",
    "    l = 0\n",
    "    for x in range(n_of_runs-1):\n",
    "        for y in range(x+1, n_of_runs):\n",
    "            HD[l] = 1 - hamming(response_matrix_single_device[x][:],response_matrix_single_device[y][:])\n",
    "            l = l + 1\n",
    "    reliability_matrix[i] = sum(HD)/n_HD"
   ]
  },
  {
   "cell_type": "code",
   "execution_count": 21,
   "id": "7172c04f",
   "metadata": {},
   "outputs": [
    {
     "ename": "NameError",
     "evalue": "name 'reliability_matrix' is not defined",
     "output_type": "error",
     "traceback": [
      "\u001b[0;31m---------------------------------------------------------------------------\u001b[0m",
      "\u001b[0;31mNameError\u001b[0m                                 Traceback (most recent call last)",
      "Input \u001b[0;32mIn [21]\u001b[0m, in \u001b[0;36m<cell line: 1>\u001b[0;34m()\u001b[0m\n\u001b[0;32m----> 1\u001b[0m \u001b[38;5;28mprint\u001b[39m(\u001b[43mreliability_matrix\u001b[49m)\n",
      "\u001b[0;31mNameError\u001b[0m: name 'reliability_matrix' is not defined"
     ]
    }
   ],
   "source": [
    "print(reliability_matrix)"
   ]
  },
  {
   "cell_type": "code",
   "execution_count": 34,
   "id": "d6bfa353",
   "metadata": {},
   "outputs": [],
   "source": [
    "output_buffer.freebuffer()\n",
    "input_buffer.freebuffer()"
   ]
  },
  {
   "cell_type": "code",
   "execution_count": null,
   "id": "609e7f72",
   "metadata": {},
   "outputs": [],
   "source": []
  }
 ],
 "metadata": {
  "kernelspec": {
   "display_name": "Python 3 (ipykernel)",
   "language": "python",
   "name": "python3"
  },
  "language_info": {
   "codemirror_mode": {
    "name": "ipython",
    "version": 3
   },
   "file_extension": ".py",
   "mimetype": "text/x-python",
   "name": "python",
   "nbconvert_exporter": "python",
   "pygments_lexer": "ipython3",
   "version": "3.10.6"
  }
 },
 "nbformat": 4,
 "nbformat_minor": 5
}
